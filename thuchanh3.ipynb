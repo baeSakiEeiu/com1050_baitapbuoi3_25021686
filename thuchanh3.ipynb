{
  "nbformat": 4,
  "nbformat_minor": 0,
  "metadata": {
    "colab": {
      "provenance": []
    },
    "kernelspec": {
      "name": "python3",
      "display_name": "Python 3"
    },
    "language_info": {
      "name": "python"
    }
  },
  "cells": [
    {
      "cell_type": "markdown",
      "source": [],
      "metadata": {
        "id": "_NAuKqBmOg1k"
      }
    },
    {
      "cell_type": "markdown",
      "source": [
        "bai 1"
      ],
      "metadata": {
        "id": "ufhpF2I5OmKd"
      }
    },
    {
      "cell_type": "code",
      "source": [
        "n = int(input(\"Nhập vào một số nguyên: \"))\n",
        "so_chuoi = str(n)\n",
        "chuoi_dao = so_chuoi[::-1]\n",
        "print(\"Số đảo ngược là:\", chuoi_dao)"
      ],
      "metadata": {
        "colab": {
          "base_uri": "https://localhost:8080/"
        },
        "id": "_oXkbXqYOkMl",
        "outputId": "a9f771fe-e9d1-48f8-d469-6d42c64da4b2"
      },
      "execution_count": null,
      "outputs": [
        {
          "output_type": "stream",
          "name": "stdout",
          "text": [
            "Nhập vào một số nguyên: 36\n",
            "Số đảo ngược là: 63\n"
          ]
        }
      ]
    },
    {
      "cell_type": "markdown",
      "source": [
        "bai 2"
      ],
      "metadata": {
        "id": "sDGMALemO5te"
      }
    },
    {
      "cell_type": "code",
      "source": [
        "a = int(input(\"Nhập vào một số nguyên a: \"))\n",
        "b = int(input(\"Nhập vào một số nguyên b: \"))\n",
        "a = b ^ a\n",
        "b = a ^ b\n",
        "a = a ^ b\n",
        "print(f\"Giá trị sau khi hoán đổi: a = {a}, b = {b}\")"
      ],
      "metadata": {
        "colab": {
          "base_uri": "https://localhost:8080/"
        },
        "id": "fAdBSOoFO-qc",
        "outputId": "1a259995-f19d-49b4-d43a-cac9c597db68"
      },
      "execution_count": null,
      "outputs": [
        {
          "output_type": "stream",
          "name": "stdout",
          "text": [
            "Nhập vào một số nguyên a: 6\n",
            "Nhập vào một số nguyên b: 9\n",
            "Giá trị sau khi hoán đổi: a = 9, b = 6\n"
          ]
        }
      ]
    },
    {
      "cell_type": "markdown",
      "source": [
        "bai 3"
      ],
      "metadata": {
        "id": "mXzQfENQUpaI"
      }
    },
    {
      "cell_type": "code",
      "source": [
        "def is_power_of_two(n):\n",
        "  return n > 0 and (n & (n - 1) == 0)\n",
        "if __name__ == \"__main__\":\n",
        "  try:\n",
        "\n",
        "    number = int(input(\"Nhập một số nguyên để kiểm tra: \"))\n",
        "\n",
        "\n",
        "    if is_power_of_two(number):\n",
        "\n",
        "      print(f\"Số {number} LÀ một lũy thừa của 2.\")\n",
        "    else:\n",
        "\n",
        "      print(f\"Số {number} KHÔNG PHẢI là một lũy thừa của 2.\")\n",
        "\n",
        "  except ValueError:\n",
        "    print(\"Không phải là một số nguyên.\")"
      ],
      "metadata": {
        "colab": {
          "base_uri": "https://localhost:8080/"
        },
        "id": "t7zfECOMUr2X",
        "outputId": "bb2da7a8-1312-440f-9c2c-39238341c4f9"
      },
      "execution_count": null,
      "outputs": [
        {
          "output_type": "stream",
          "name": "stdout",
          "text": [
            "Nhập một số nguyên để kiểm tra: 99\n",
            "Số 99 KHÔNG PHẢI là một lũy thừa của 2.\n"
          ]
        }
      ]
    },
    {
      "cell_type": "markdown",
      "source": [
        "bai 4"
      ],
      "metadata": {
        "id": "WnG4ZOXK2M3h"
      }
    },
    {
      "cell_type": "code",
      "source": [
        "m = int(input(\" Nhap so nguyen m \"))\n",
        "n = int(input(\" Nhap so nguyen n \"))\n",
        "thuong = m // n\n",
        "print(thuong)"
      ],
      "metadata": {
        "colab": {
          "base_uri": "https://localhost:8080/"
        },
        "id": "0PqCTr_J2PVb",
        "outputId": "a8a5d1a5-e0b3-47cb-e4af-f8a3f5d78ee6"
      },
      "execution_count": null,
      "outputs": [
        {
          "output_type": "stream",
          "name": "stdout",
          "text": [
            " Nhap so nguyen m 2\n",
            " Nhap so nguyen n 3\n",
            "0\n"
          ]
        }
      ]
    },
    {
      "cell_type": "markdown",
      "source": [
        "bai 5"
      ],
      "metadata": {
        "id": "pbBxINkU3-Kp"
      }
    },
    {
      "cell_type": "code",
      "source": [
        "m = int(input(\" Nhap so nguyen m \"))\n",
        "n = int(input(\" Nhap so nguyen n \"))\n",
        "thuong = (m + n - 1) // n\n",
        "print(thuong)\n"
      ],
      "metadata": {
        "colab": {
          "base_uri": "https://localhost:8080/"
        },
        "id": "g8J1rO-b3_St",
        "outputId": "111a89ee-25fe-4249-8b6f-e4d6a4b948c9"
      },
      "execution_count": null,
      "outputs": [
        {
          "output_type": "stream",
          "name": "stdout",
          "text": [
            " Nhap so nguyen m 2323\n",
            " Nhap so nguyen n 45\n",
            "52\n"
          ]
        }
      ]
    },
    {
      "cell_type": "markdown",
      "source": [
        "bai 6"
      ],
      "metadata": {
        "id": "lGlHXWR84-x5"
      }
    },
    {
      "cell_type": "code",
      "source": [
        "a = int(input(\" Nhap 1 so nguyen \"))\n",
        "if a % 2 == 0:\n",
        " print(\"even\")\n",
        "else:\n",
        "  print(\"odd\")"
      ],
      "metadata": {
        "colab": {
          "base_uri": "https://localhost:8080/"
        },
        "id": "ppBO2HnP5AD_",
        "outputId": "97e5d38c-e27f-47b2-8af0-5db9c0b079fc"
      },
      "execution_count": null,
      "outputs": [
        {
          "output_type": "stream",
          "name": "stdout",
          "text": [
            " Nhap 1 so nguyen 51\n",
            "odd\n"
          ]
        }
      ]
    },
    {
      "cell_type": "markdown",
      "source": [
        "bai 7"
      ],
      "metadata": {
        "id": "pFuNIfosECA1"
      }
    },
    {
      "cell_type": "code",
      "source": [
        "a = int(input(\" Nhap 1 so nguyen a \"))\n",
        "b = int(input(\" Nhap 1 so nguyen b \"))\n",
        "if a < 0 and b < 0 :\n",
        "  print(\"yes\")\n",
        "else:\n",
        "  print(\"no\")"
      ],
      "metadata": {
        "colab": {
          "base_uri": "https://localhost:8080/"
        },
        "id": "UyLt2xbpEDZd",
        "outputId": "e541f0f1-6c73-486b-e7d3-e808d7b6cc92"
      },
      "execution_count": null,
      "outputs": [
        {
          "output_type": "stream",
          "name": "stdout",
          "text": [
            " Nhap 1 so nguyen a 1\n",
            " Nhap 1 so nguyen b -1\n",
            "no\n"
          ]
        }
      ]
    },
    {
      "cell_type": "markdown",
      "source": [
        "bai 8"
      ],
      "metadata": {
        "id": "VWBj92wxElp-"
      }
    },
    {
      "cell_type": "code",
      "source": [
        "a = input(\"Nhập chuỗi a: \")\n",
        "b = input(\"Nhập chuỗi b: \")\n",
        "if len(a) > len(b):\n",
        "  print(\"True\")\n",
        "else:\n",
        "  print(\"False\")"
      ],
      "metadata": {
        "colab": {
          "base_uri": "https://localhost:8080/"
        },
        "id": "DxB1v6kIEm7R",
        "outputId": "d063ae74-5208-4eaf-8be5-ff47d0ff1d13"
      },
      "execution_count": null,
      "outputs": [
        {
          "output_type": "stream",
          "name": "stdout",
          "text": [
            "Nhập chuỗi a: sakiko\n",
            "Nhập chuỗi b: saki\n",
            "True\n"
          ]
        }
      ]
    },
    {
      "cell_type": "markdown",
      "source": [
        "bai 9"
      ],
      "metadata": {
        "id": "-6Mckv_8WGjc"
      }
    },
    {
      "cell_type": "code",
      "source": [
        "a = int(input(\" độ dài cạnh a \"))\n",
        "b = int(input(\" độ dài cạnh b \"))\n",
        "c = int(input(\" độ dài cạnh c \"))\n",
        "if a > 0 and b > 0 and c > 0 and (a + b > c) and (a + c > b) and (b + c > a):\n",
        "    print(\"yes\")\n",
        "else:\n",
        "    print(\"no\")"
      ],
      "metadata": {
        "colab": {
          "base_uri": "https://localhost:8080/"
        },
        "id": "W0pXygerWHyX",
        "outputId": "af2298a5-ac1b-44d7-85a7-4b2c9219fa2e"
      },
      "execution_count": null,
      "outputs": [
        {
          "output_type": "stream",
          "name": "stdout",
          "text": [
            " độ dài cạnh a 3\n",
            " độ dài cạnh b 2\n",
            " độ dài cạnh c 1\n",
            "no\n"
          ]
        }
      ]
    },
    {
      "cell_type": "markdown",
      "source": [
        "bai 10"
      ],
      "metadata": {
        "id": "XVmt7Bd8WUIU"
      }
    },
    {
      "cell_type": "code",
      "source": [
        "a = int(input(\" số a \"))\n",
        "b = int(input(\" số b \"))\n",
        "c = int(input(\" số c \"))\n",
        "d = int(input(\" số d \"))\n",
        "gtln = max(a, b, c, d)\n",
        "print(gtln)"
      ],
      "metadata": {
        "colab": {
          "base_uri": "https://localhost:8080/"
        },
        "id": "_uRTI6usWVNr",
        "outputId": "9246af22-20ce-418f-f431-071ff96c6373"
      },
      "execution_count": null,
      "outputs": [
        {
          "output_type": "stream",
          "name": "stdout",
          "text": [
            " số a 99999\n",
            " số b 9999\n",
            " số c 999\n",
            " số d 99\n",
            "99999\n"
          ]
        }
      ]
    },
    {
      "cell_type": "markdown",
      "source": [
        "bai 11"
      ],
      "metadata": {
        "id": "KaE1r2AcWvZ5"
      }
    },
    {
      "cell_type": "code",
      "source": [
        "a = int(input(\" độ dài cạnh a \"))\n",
        "b = int(input(\" độ dài cạnh b \"))\n",
        "c = int(input(\" độ dài cạnh c \"))\n",
        "if a > 0 and b > 0 and c > 0 and (a + b > c) and (a + c > b) and (b + c > a):\n",
        "  if a == b and b == c :\n",
        "    print(\"tam giác đều\")\n",
        "  elif a == b or a == c or b == c :\n",
        "    print(\"tam giác cân\")\n",
        "  elif a**2 + b**2 == c**2 or a**2 + c**2 == b**2 or b**2 + c**2 == a**2 :\n",
        "    print(\"tam giác vuông\")\n",
        "  else:\n",
        "    print(\"tam giác thường\")\n",
        "else:\n",
        "    print(\"không phải tam giác\")"
      ],
      "metadata": {
        "colab": {
          "base_uri": "https://localhost:8080/"
        },
        "id": "v2eJbRBCWxF4",
        "outputId": "f8088e12-604d-425f-afbc-20f4522cd77b"
      },
      "execution_count": null,
      "outputs": [
        {
          "output_type": "stream",
          "name": "stdout",
          "text": [
            " độ dài cạnh a 3\n",
            " độ dài cạnh b 4\n",
            " độ dài cạnh c 5\n",
            "tam giác vuông\n"
          ]
        }
      ]
    },
    {
      "cell_type": "markdown",
      "source": [
        "bai 12"
      ],
      "metadata": {
        "id": "hk7cC14pX6pV"
      }
    },
    {
      "cell_type": "code",
      "source": [
        "year = int(input(\" Nhập năm vào đây \"))\n",
        "if year % 4 == 0 and year % 100 !=0 or year % 400 == 0 :\n",
        "  print(\" Yes \")\n",
        "else:\n",
        "  print(\" No \")"
      ],
      "metadata": {
        "colab": {
          "base_uri": "https://localhost:8080/"
        },
        "id": "FPACBRtmX8I9",
        "outputId": "4a98cd2e-d5a2-48f4-bbde-99850466e9fc"
      },
      "execution_count": null,
      "outputs": [
        {
          "output_type": "stream",
          "name": "stdout",
          "text": [
            " Nhập năm vào đây 1900\n",
            " No \n"
          ]
        }
      ]
    },
    {
      "cell_type": "markdown",
      "source": [
        "bai 13"
      ],
      "metadata": {
        "id": "PAAqRDaMZbAK"
      }
    },
    {
      "cell_type": "code",
      "source": [
        "def tinh_tien_dien(kwh):\n",
        "    gia_bac_1 = 1500\n",
        "    gia_bac_2 = 2000\n",
        "    gia_bac_3 = 3000\n",
        "\n",
        "    nguong_bac_1 = 50\n",
        "    nguong_bac_2 = 100\n",
        "\n",
        "    tien_dien = 0\n",
        "\n",
        "    if kwh <= 0:\n",
        "        return 0\n",
        "    elif kwh <= nguong_bac_1:\n",
        "        tien_dien = kwh * gia_bac_1\n",
        "    elif kwh <= nguong_bac_2:\n",
        "        tien_bac_1 = nguong_bac_1 * gia_bac_1\n",
        "        so_kwh_con_lai = kwh - nguong_bac_1\n",
        "        tien_bac_2 = so_kwh_con_lai * gia_bac_2\n",
        "        tien_dien = tien_bac_1 + tien_bac_2\n",
        "    else:\n",
        "        tien_bac_1 = nguong_bac_1 * gia_bac_1\n",
        "        tien_bac_2 = (nguong_bac_2 - nguong_bac_1) * gia_bac_2\n",
        "        so_kwh_con_lai = kwh - nguong_bac_2\n",
        "        tien_bac_3 = so_kwh_con_lai * gia_bac_3\n",
        "        tien_dien = tien_bac_1 + tien_bac_2 + tien_bac_3\n",
        "    return tien_dien\n",
        "\n",
        "if __name__ == \"__main__\":\n",
        "    try:\n",
        "        so_kwh_tieu_thu = float(input(\"Nhập vào số kWh điện tiêu thụ: \"))\n",
        "\n",
        "        if so_kwh_tieu_thu < 0:\n",
        "            print(\"Không hợp lệ\")\n",
        "        else:\n",
        "            tong_tien = tinh_tien_dien(so_kwh_tieu_thu)\n",
        "\n",
        "            print(f\"Tổng số tiền điện phải trả là: {tong_tien:,.0f} đ\")"
      ],
      "metadata": {
        "colab": {
          "base_uri": "https://localhost:8080/"
        },
        "id": "4C5IQg6AZcKw",
        "outputId": "38f8f5d2-c79e-40bc-d4c9-08e7deca3ae9"
      },
      "execution_count": null,
      "outputs": [
        {
          "output_type": "stream",
          "name": "stdout",
          "text": [
            "Nhập vào số kWh điện tiêu thụ: 40\n",
            "Tổng số tiền điện phải trả là: 60,000 đ\n"
          ]
        }
      ]
    },
    {
      "cell_type": "markdown",
      "source": [
        "bai 14"
      ],
      "metadata": {
        "id": "l54X6vh0bISR"
      }
    },
    {
      "cell_type": "code",
      "source": [
        "def giai_phuong_trinh_bac_nhat(a, b):\n",
        "    if a == 0:\n",
        "        if b == 0:\n",
        "            return \"Vô số nghiệm\"\n",
        "        else:\n",
        "            return \"Vô nghiệm\"\n",
        "    else:\n",
        "        nghiem = -b / a\n",
        "        return nghiem\n",
        "\n",
        "if __name__ == \"__main__\":\n",
        "    try:\n",
        "        a = float(input(\"Nhập hệ số a: \"))\n",
        "        b = float(input(\"Nhập hệ số b: \"))\n",
        "        ket_qua = giai_phuong_trinh_bac_nhat(a, b)\n",
        "        if isinstance(ket_qua, str):\n",
        "            print(ket_qua)\n",
        "        else:\n",
        "            print(f\"{ket_qua:.2f}\")\n",
        "    except ValueError:\n",
        "        print(\"Đầu vào không hợp lệ. Vui lòng nhập số.\")"
      ],
      "metadata": {
        "colab": {
          "base_uri": "https://localhost:8080/"
        },
        "id": "gQVGFFHcbJUN",
        "outputId": "214bb676-b6ad-4745-ff59-fd7ec88cfcfd"
      },
      "execution_count": null,
      "outputs": [
        {
          "output_type": "stream",
          "name": "stdout",
          "text": [
            "Nhập hệ số a: 9\n",
            "Nhập hệ số b: 36\n",
            "-4.00\n"
          ]
        }
      ]
    },
    {
      "cell_type": "markdown",
      "source": [
        "bai 15"
      ],
      "metadata": {
        "id": "2CzysqZwbtq1"
      }
    },
    {
      "cell_type": "code",
      "source": [
        "ave = float(input(\" Nhập điểm trung bình \"))\n",
        "if ave >= 8.0 :\n",
        "   print(\" Giỏi \")\n",
        "elif ave >= 6.5 and ave < 8.0 :\n",
        "   print(\" Khá \")\n",
        "elif ave >= 5.0 and ave < 6.5 :\n",
        "   print(\" Trung bình \")\n",
        "else :\n",
        "   print(\" Yếu \")"
      ],
      "metadata": {
        "colab": {
          "base_uri": "https://localhost:8080/"
        },
        "id": "td76o42ebuur",
        "outputId": "637a2f3b-859b-4564-9724-23bcc51e4056"
      },
      "execution_count": null,
      "outputs": [
        {
          "output_type": "stream",
          "name": "stdout",
          "text": [
            " Nhập điểm trung bình 9.5\n",
            " Giỏi \n"
          ]
        }
      ]
    },
    {
      "cell_type": "markdown",
      "source": [
        "bai 16"
      ],
      "metadata": {
        "id": "WHNRr1sg5cNw"
      }
    },
    {
      "cell_type": "code",
      "source": [
        "a = float(input())\n",
        "import math\n",
        "print(math.ceil(a))\n",
        "print(math.floor(a))\n",
        "print(round(a))"
      ],
      "metadata": {
        "colab": {
          "base_uri": "https://localhost:8080/"
        },
        "id": "0RAJDX8V5djd",
        "outputId": "83007e3b-f5be-4597-b952-4f839bb16df0"
      },
      "execution_count": 1,
      "outputs": [
        {
          "output_type": "stream",
          "name": "stdout",
          "text": [
            "-5.8\n",
            "-5\n",
            "-6\n",
            "-6\n"
          ]
        }
      ]
    },
    {
      "cell_type": "markdown",
      "source": [
        "bai 17 giong bai 11"
      ],
      "metadata": {
        "id": "_ckZNHT75orE"
      }
    }
  ]
}